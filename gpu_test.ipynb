{
 "cells": [
  {
   "cell_type": "code",
   "execution_count": 6,
   "metadata": {
    "ExecuteTime": {
     "end_time": "2020-05-08T05:03:46.831730Z",
     "start_time": "2020-05-08T05:03:46.781766Z"
    }
   },
   "outputs": [
    {
     "data": {
      "text/plain": [
       "True"
      ]
     },
     "execution_count": 6,
     "metadata": {},
     "output_type": "execute_result"
    }
   ],
   "source": [
    "import torch\n",
    "# 若正常则静默\n",
    "\n",
    "a = torch.tensor(1.)\n",
    "# 若正常则静默\n",
    "\n",
    "a.cuda()\n",
    "# 若正常则返回 tensor(1., device='cuda:0')\n",
    "\n",
    "from torch.backends import cudnn\n",
    "# 若正常则静默\n",
    "\n",
    "cudnn.is_available()\n",
    "# 若正常则返回 True\n",
    "\n",
    "cudnn.is_acceptable(a.cuda())"
   ]
  },
  {
   "cell_type": "code",
   "execution_count": null,
   "metadata": {},
   "outputs": [],
   "source": []
  }
 ],
 "metadata": {
  "kernelspec": {
   "display_name": "Python 3",
   "language": "python",
   "name": "python3"
  },
  "language_info": {
   "codemirror_mode": {
    "name": "ipython",
    "version": 3
   },
   "file_extension": ".py",
   "mimetype": "text/x-python",
   "name": "python",
   "nbconvert_exporter": "python",
   "pygments_lexer": "ipython3",
   "version": "3.6.8"
  }
 },
 "nbformat": 4,
 "nbformat_minor": 4
}
